{
 "cells": [
  {
   "cell_type": "code",
   "execution_count": 1,
   "id": "f9cde7df",
   "metadata": {},
   "outputs": [],
   "source": [
    "import pandas as pd\n",
    "import numpy as np\n",
    "import matplotlib.pyplot as plt\n",
    "import seaborn as sns"
   ]
  },
  {
   "cell_type": "code",
   "execution_count": 7,
   "id": "cd9d89eb",
   "metadata": {},
   "outputs": [],
   "source": [
    "df=pd.read_excel(r\"C:\\Users\\meghi\\Downloads\\survey.xls\")"
   ]
  },
  {
   "cell_type": "code",
   "execution_count": 8,
   "id": "f62fd30f",
   "metadata": {},
   "outputs": [
    {
     "data": {
      "text/html": [
       "<div>\n",
       "<style scoped>\n",
       "    .dataframe tbody tr th:only-of-type {\n",
       "        vertical-align: middle;\n",
       "    }\n",
       "\n",
       "    .dataframe tbody tr th {\n",
       "        vertical-align: top;\n",
       "    }\n",
       "\n",
       "    .dataframe thead th {\n",
       "        text-align: right;\n",
       "    }\n",
       "</style>\n",
       "<table border=\"1\" class=\"dataframe\">\n",
       "  <thead>\n",
       "    <tr style=\"text-align: right;\">\n",
       "      <th></th>\n",
       "      <th>Name</th>\n",
       "      <th>Nationality</th>\n",
       "      <th>Sex</th>\n",
       "      <th>Age</th>\n",
       "      <th>Handedness</th>\n",
       "    </tr>\n",
       "  </thead>\n",
       "  <tbody>\n",
       "    <tr>\n",
       "      <th>0</th>\n",
       "      <td>Kathy</td>\n",
       "      <td>USA</td>\n",
       "      <td>Female</td>\n",
       "      <td>23</td>\n",
       "      <td>Right</td>\n",
       "    </tr>\n",
       "    <tr>\n",
       "      <th>1</th>\n",
       "      <td>Linda</td>\n",
       "      <td>USA</td>\n",
       "      <td>Female</td>\n",
       "      <td>18</td>\n",
       "      <td>Right</td>\n",
       "    </tr>\n",
       "    <tr>\n",
       "      <th>2</th>\n",
       "      <td>Peter</td>\n",
       "      <td>USA</td>\n",
       "      <td>Male</td>\n",
       "      <td>19</td>\n",
       "      <td>Right</td>\n",
       "    </tr>\n",
       "    <tr>\n",
       "      <th>3</th>\n",
       "      <td>John</td>\n",
       "      <td>USA</td>\n",
       "      <td>Male</td>\n",
       "      <td>22</td>\n",
       "      <td>Left</td>\n",
       "    </tr>\n",
       "    <tr>\n",
       "      <th>4</th>\n",
       "      <td>Fatima</td>\n",
       "      <td>Bangadesh</td>\n",
       "      <td>Female</td>\n",
       "      <td>31</td>\n",
       "      <td>Left</td>\n",
       "    </tr>\n",
       "    <tr>\n",
       "      <th>5</th>\n",
       "      <td>Kadir</td>\n",
       "      <td>Bangadesh</td>\n",
       "      <td>Male</td>\n",
       "      <td>25</td>\n",
       "      <td>Left</td>\n",
       "    </tr>\n",
       "    <tr>\n",
       "      <th>6</th>\n",
       "      <td>Dhaval</td>\n",
       "      <td>India</td>\n",
       "      <td>Male</td>\n",
       "      <td>35</td>\n",
       "      <td>Left</td>\n",
       "    </tr>\n",
       "    <tr>\n",
       "      <th>7</th>\n",
       "      <td>Sudhir</td>\n",
       "      <td>India</td>\n",
       "      <td>Male</td>\n",
       "      <td>31</td>\n",
       "      <td>Left</td>\n",
       "    </tr>\n",
       "    <tr>\n",
       "      <th>8</th>\n",
       "      <td>Parvir</td>\n",
       "      <td>India</td>\n",
       "      <td>Male</td>\n",
       "      <td>37</td>\n",
       "      <td>Right</td>\n",
       "    </tr>\n",
       "    <tr>\n",
       "      <th>9</th>\n",
       "      <td>Yan</td>\n",
       "      <td>China</td>\n",
       "      <td>Female</td>\n",
       "      <td>52</td>\n",
       "      <td>Right</td>\n",
       "    </tr>\n",
       "    <tr>\n",
       "      <th>10</th>\n",
       "      <td>Juan</td>\n",
       "      <td>China</td>\n",
       "      <td>Female</td>\n",
       "      <td>58</td>\n",
       "      <td>Left</td>\n",
       "    </tr>\n",
       "    <tr>\n",
       "      <th>11</th>\n",
       "      <td>Liang</td>\n",
       "      <td>China</td>\n",
       "      <td>Male</td>\n",
       "      <td>43</td>\n",
       "      <td>Left</td>\n",
       "    </tr>\n",
       "  </tbody>\n",
       "</table>\n",
       "</div>"
      ],
      "text/plain": [
       "      Name Nationality     Sex  Age Handedness\n",
       "0    Kathy         USA  Female   23      Right\n",
       "1    Linda         USA  Female   18      Right\n",
       "2    Peter         USA    Male   19      Right\n",
       "3     John         USA    Male   22       Left\n",
       "4   Fatima   Bangadesh  Female   31       Left\n",
       "5    Kadir   Bangadesh    Male   25       Left\n",
       "6   Dhaval       India    Male   35       Left\n",
       "7   Sudhir       India    Male   31       Left\n",
       "8   Parvir       India    Male   37      Right\n",
       "9      Yan       China  Female   52      Right\n",
       "10    Juan       China  Female   58       Left\n",
       "11   Liang       China    Male   43       Left"
      ]
     },
     "execution_count": 8,
     "metadata": {},
     "output_type": "execute_result"
    }
   ],
   "source": [
    "df"
   ]
  },
  {
   "cell_type": "code",
   "execution_count": 9,
   "id": "9551d7be",
   "metadata": {},
   "outputs": [],
   "source": [
    "dt=df.copy()"
   ]
  },
  {
   "cell_type": "code",
   "execution_count": 10,
   "id": "1ec41b0b",
   "metadata": {},
   "outputs": [
    {
     "data": {
      "text/html": [
       "<div>\n",
       "<style scoped>\n",
       "    .dataframe tbody tr th:only-of-type {\n",
       "        vertical-align: middle;\n",
       "    }\n",
       "\n",
       "    .dataframe tbody tr th {\n",
       "        vertical-align: top;\n",
       "    }\n",
       "\n",
       "    .dataframe thead th {\n",
       "        text-align: right;\n",
       "    }\n",
       "</style>\n",
       "<table border=\"1\" class=\"dataframe\">\n",
       "  <thead>\n",
       "    <tr style=\"text-align: right;\">\n",
       "      <th></th>\n",
       "      <th>Name</th>\n",
       "      <th>Nationality</th>\n",
       "      <th>Sex</th>\n",
       "      <th>Age</th>\n",
       "      <th>Handedness</th>\n",
       "    </tr>\n",
       "  </thead>\n",
       "  <tbody>\n",
       "    <tr>\n",
       "      <th>0</th>\n",
       "      <td>Kathy</td>\n",
       "      <td>USA</td>\n",
       "      <td>Female</td>\n",
       "      <td>23</td>\n",
       "      <td>Right</td>\n",
       "    </tr>\n",
       "    <tr>\n",
       "      <th>1</th>\n",
       "      <td>Linda</td>\n",
       "      <td>USA</td>\n",
       "      <td>Female</td>\n",
       "      <td>18</td>\n",
       "      <td>Right</td>\n",
       "    </tr>\n",
       "    <tr>\n",
       "      <th>2</th>\n",
       "      <td>Peter</td>\n",
       "      <td>USA</td>\n",
       "      <td>Male</td>\n",
       "      <td>19</td>\n",
       "      <td>Right</td>\n",
       "    </tr>\n",
       "    <tr>\n",
       "      <th>3</th>\n",
       "      <td>John</td>\n",
       "      <td>USA</td>\n",
       "      <td>Male</td>\n",
       "      <td>22</td>\n",
       "      <td>Left</td>\n",
       "    </tr>\n",
       "    <tr>\n",
       "      <th>4</th>\n",
       "      <td>Fatima</td>\n",
       "      <td>Bangadesh</td>\n",
       "      <td>Female</td>\n",
       "      <td>31</td>\n",
       "      <td>Left</td>\n",
       "    </tr>\n",
       "    <tr>\n",
       "      <th>5</th>\n",
       "      <td>Kadir</td>\n",
       "      <td>Bangadesh</td>\n",
       "      <td>Male</td>\n",
       "      <td>25</td>\n",
       "      <td>Left</td>\n",
       "    </tr>\n",
       "    <tr>\n",
       "      <th>6</th>\n",
       "      <td>Dhaval</td>\n",
       "      <td>India</td>\n",
       "      <td>Male</td>\n",
       "      <td>35</td>\n",
       "      <td>Left</td>\n",
       "    </tr>\n",
       "    <tr>\n",
       "      <th>7</th>\n",
       "      <td>Sudhir</td>\n",
       "      <td>India</td>\n",
       "      <td>Male</td>\n",
       "      <td>31</td>\n",
       "      <td>Left</td>\n",
       "    </tr>\n",
       "    <tr>\n",
       "      <th>8</th>\n",
       "      <td>Parvir</td>\n",
       "      <td>India</td>\n",
       "      <td>Male</td>\n",
       "      <td>37</td>\n",
       "      <td>Right</td>\n",
       "    </tr>\n",
       "    <tr>\n",
       "      <th>9</th>\n",
       "      <td>Yan</td>\n",
       "      <td>China</td>\n",
       "      <td>Female</td>\n",
       "      <td>52</td>\n",
       "      <td>Right</td>\n",
       "    </tr>\n",
       "    <tr>\n",
       "      <th>10</th>\n",
       "      <td>Juan</td>\n",
       "      <td>China</td>\n",
       "      <td>Female</td>\n",
       "      <td>58</td>\n",
       "      <td>Left</td>\n",
       "    </tr>\n",
       "    <tr>\n",
       "      <th>11</th>\n",
       "      <td>Liang</td>\n",
       "      <td>China</td>\n",
       "      <td>Male</td>\n",
       "      <td>43</td>\n",
       "      <td>Left</td>\n",
       "    </tr>\n",
       "  </tbody>\n",
       "</table>\n",
       "</div>"
      ],
      "text/plain": [
       "      Name Nationality     Sex  Age Handedness\n",
       "0    Kathy         USA  Female   23      Right\n",
       "1    Linda         USA  Female   18      Right\n",
       "2    Peter         USA    Male   19      Right\n",
       "3     John         USA    Male   22       Left\n",
       "4   Fatima   Bangadesh  Female   31       Left\n",
       "5    Kadir   Bangadesh    Male   25       Left\n",
       "6   Dhaval       India    Male   35       Left\n",
       "7   Sudhir       India    Male   31       Left\n",
       "8   Parvir       India    Male   37      Right\n",
       "9      Yan       China  Female   52      Right\n",
       "10    Juan       China  Female   58       Left\n",
       "11   Liang       China    Male   43       Left"
      ]
     },
     "execution_count": 10,
     "metadata": {},
     "output_type": "execute_result"
    }
   ],
   "source": [
    "dt"
   ]
  },
  {
   "cell_type": "code",
   "execution_count": 11,
   "id": "067c89b5",
   "metadata": {},
   "outputs": [
    {
     "name": "stdout",
     "output_type": "stream",
     "text": [
      "<class 'pandas.core.frame.DataFrame'>\n",
      "RangeIndex: 12 entries, 0 to 11\n",
      "Data columns (total 5 columns):\n",
      " #   Column       Non-Null Count  Dtype \n",
      "---  ------       --------------  ----- \n",
      " 0   Name         12 non-null     object\n",
      " 1   Nationality  12 non-null     object\n",
      " 2   Sex          12 non-null     object\n",
      " 3   Age          12 non-null     int64 \n",
      " 4   Handedness   12 non-null     object\n",
      "dtypes: int64(1), object(4)\n",
      "memory usage: 608.0+ bytes\n"
     ]
    }
   ],
   "source": [
    "dt.info()"
   ]
  },
  {
   "cell_type": "code",
   "execution_count": 12,
   "id": "3a53cc10",
   "metadata": {},
   "outputs": [],
   "source": [
    "#In this data we can say that the information we are having has 12 rows and 5 columns.\n",
    "#by the information we can also say that they are one integer type(age) and 4 objects(name,nationality,sex,handedness)\n",
    "#by this we can say there is no null value "
   ]
  },
  {
   "cell_type": "code",
   "execution_count": 14,
   "id": "4ebe99a6",
   "metadata": {},
   "outputs": [
    {
     "data": {
      "text/html": [
       "<div>\n",
       "<style scoped>\n",
       "    .dataframe tbody tr th:only-of-type {\n",
       "        vertical-align: middle;\n",
       "    }\n",
       "\n",
       "    .dataframe tbody tr th {\n",
       "        vertical-align: top;\n",
       "    }\n",
       "\n",
       "    .dataframe thead th {\n",
       "        text-align: right;\n",
       "    }\n",
       "</style>\n",
       "<table border=\"1\" class=\"dataframe\">\n",
       "  <thead>\n",
       "    <tr style=\"text-align: right;\">\n",
       "      <th></th>\n",
       "      <th>Age</th>\n",
       "    </tr>\n",
       "  </thead>\n",
       "  <tbody>\n",
       "    <tr>\n",
       "      <th>count</th>\n",
       "      <td>12.000000</td>\n",
       "    </tr>\n",
       "    <tr>\n",
       "      <th>mean</th>\n",
       "      <td>32.833333</td>\n",
       "    </tr>\n",
       "    <tr>\n",
       "      <th>std</th>\n",
       "      <td>12.861736</td>\n",
       "    </tr>\n",
       "    <tr>\n",
       "      <th>min</th>\n",
       "      <td>18.000000</td>\n",
       "    </tr>\n",
       "    <tr>\n",
       "      <th>25%</th>\n",
       "      <td>22.750000</td>\n",
       "    </tr>\n",
       "    <tr>\n",
       "      <th>50%</th>\n",
       "      <td>31.000000</td>\n",
       "    </tr>\n",
       "    <tr>\n",
       "      <th>75%</th>\n",
       "      <td>38.500000</td>\n",
       "    </tr>\n",
       "    <tr>\n",
       "      <th>max</th>\n",
       "      <td>58.000000</td>\n",
       "    </tr>\n",
       "  </tbody>\n",
       "</table>\n",
       "</div>"
      ],
      "text/plain": [
       "             Age\n",
       "count  12.000000\n",
       "mean   32.833333\n",
       "std    12.861736\n",
       "min    18.000000\n",
       "25%    22.750000\n",
       "50%    31.000000\n",
       "75%    38.500000\n",
       "max    58.000000"
      ]
     },
     "execution_count": 14,
     "metadata": {},
     "output_type": "execute_result"
    }
   ],
   "source": [
    "dt.describe()"
   ]
  },
  {
   "cell_type": "code",
   "execution_count": 15,
   "id": "fa184263",
   "metadata": {},
   "outputs": [],
   "source": [
    "#by this descripition we can say the count, mean, std, min, max, precentile"
   ]
  },
  {
   "cell_type": "markdown",
   "id": "49f3a2bf",
   "metadata": {},
   "source": [
    "# outliners"
   ]
  },
  {
   "cell_type": "code",
   "execution_count": 21,
   "id": "fbb19045",
   "metadata": {},
   "outputs": [],
   "source": [
    "x1=np.percentile(dt[\"Age\"],[25,50,100])"
   ]
  },
  {
   "cell_type": "code",
   "execution_count": 22,
   "id": "5f79e278",
   "metadata": {},
   "outputs": [
    {
     "data": {
      "text/plain": [
       "array([22.75, 31.  , 58.  ])"
      ]
     },
     "execution_count": 22,
     "metadata": {},
     "output_type": "execute_result"
    }
   ],
   "source": [
    "x1"
   ]
  },
  {
   "cell_type": "code",
   "execution_count": 25,
   "id": "b0826359",
   "metadata": {},
   "outputs": [],
   "source": [
    "q1=x1[0]\n",
    "q2=x1[1]\n",
    "q3=x1[2]"
   ]
  },
  {
   "cell_type": "code",
   "execution_count": 27,
   "id": "76f04bbe",
   "metadata": {},
   "outputs": [],
   "source": [
    "iqr=q3-q1"
   ]
  },
  {
   "cell_type": "code",
   "execution_count": 28,
   "id": "4ab5dcf3",
   "metadata": {},
   "outputs": [
    {
     "data": {
      "text/plain": [
       "35.25"
      ]
     },
     "execution_count": 28,
     "metadata": {},
     "output_type": "execute_result"
    }
   ],
   "source": [
    "iqr"
   ]
  },
  {
   "cell_type": "code",
   "execution_count": 32,
   "id": "5257f609",
   "metadata": {},
   "outputs": [],
   "source": [
    "lb=q1-(iqr*1.5) \n",
    "up=q3+(iqr*1.5)"
   ]
  },
  {
   "cell_type": "code",
   "execution_count": 33,
   "id": "919c6f89",
   "metadata": {},
   "outputs": [
    {
     "data": {
      "text/plain": [
       "-30.125"
      ]
     },
     "execution_count": 33,
     "metadata": {},
     "output_type": "execute_result"
    }
   ],
   "source": [
    "lb"
   ]
  },
  {
   "cell_type": "code",
   "execution_count": 35,
   "id": "3fb8d6fb",
   "metadata": {},
   "outputs": [
    {
     "data": {
      "text/plain": [
       "110.875"
      ]
     },
     "execution_count": 35,
     "metadata": {},
     "output_type": "execute_result"
    }
   ],
   "source": [
    "up"
   ]
  },
  {
   "cell_type": "code",
   "execution_count": 36,
   "id": "57ddfe41",
   "metadata": {},
   "outputs": [
    {
     "data": {
      "text/html": [
       "<div>\n",
       "<style scoped>\n",
       "    .dataframe tbody tr th:only-of-type {\n",
       "        vertical-align: middle;\n",
       "    }\n",
       "\n",
       "    .dataframe tbody tr th {\n",
       "        vertical-align: top;\n",
       "    }\n",
       "\n",
       "    .dataframe thead th {\n",
       "        text-align: right;\n",
       "    }\n",
       "</style>\n",
       "<table border=\"1\" class=\"dataframe\">\n",
       "  <thead>\n",
       "    <tr style=\"text-align: right;\">\n",
       "      <th></th>\n",
       "      <th>Name</th>\n",
       "      <th>Nationality</th>\n",
       "      <th>Sex</th>\n",
       "      <th>Age</th>\n",
       "      <th>Handedness</th>\n",
       "    </tr>\n",
       "  </thead>\n",
       "  <tbody>\n",
       "  </tbody>\n",
       "</table>\n",
       "</div>"
      ],
      "text/plain": [
       "Empty DataFrame\n",
       "Columns: [Name, Nationality, Sex, Age, Handedness]\n",
       "Index: []"
      ]
     },
     "execution_count": 36,
     "metadata": {},
     "output_type": "execute_result"
    }
   ],
   "source": [
    "dt.loc[dt[\"Age\"]<lb]"
   ]
  },
  {
   "cell_type": "code",
   "execution_count": 37,
   "id": "d68e9bfa",
   "metadata": {},
   "outputs": [
    {
     "data": {
      "text/html": [
       "<div>\n",
       "<style scoped>\n",
       "    .dataframe tbody tr th:only-of-type {\n",
       "        vertical-align: middle;\n",
       "    }\n",
       "\n",
       "    .dataframe tbody tr th {\n",
       "        vertical-align: top;\n",
       "    }\n",
       "\n",
       "    .dataframe thead th {\n",
       "        text-align: right;\n",
       "    }\n",
       "</style>\n",
       "<table border=\"1\" class=\"dataframe\">\n",
       "  <thead>\n",
       "    <tr style=\"text-align: right;\">\n",
       "      <th></th>\n",
       "      <th>Name</th>\n",
       "      <th>Nationality</th>\n",
       "      <th>Sex</th>\n",
       "      <th>Age</th>\n",
       "      <th>Handedness</th>\n",
       "    </tr>\n",
       "  </thead>\n",
       "  <tbody>\n",
       "  </tbody>\n",
       "</table>\n",
       "</div>"
      ],
      "text/plain": [
       "Empty DataFrame\n",
       "Columns: [Name, Nationality, Sex, Age, Handedness]\n",
       "Index: []"
      ]
     },
     "execution_count": 37,
     "metadata": {},
     "output_type": "execute_result"
    }
   ],
   "source": [
    "dt.loc[dt[\"Age\"]>up]"
   ]
  },
  {
   "cell_type": "code",
   "execution_count": 38,
   "id": "eb2969f0",
   "metadata": {},
   "outputs": [],
   "source": [
    "#by the above information we can say they are no outliners"
   ]
  },
  {
   "cell_type": "markdown",
   "id": "3cd59adc",
   "metadata": {},
   "source": []
  },
  {
   "cell_type": "code",
   "execution_count": 39,
   "id": "cfe2c73e",
   "metadata": {},
   "outputs": [
    {
     "data": {
      "text/html": [
       "<div>\n",
       "<style scoped>\n",
       "    .dataframe tbody tr th:only-of-type {\n",
       "        vertical-align: middle;\n",
       "    }\n",
       "\n",
       "    .dataframe tbody tr th {\n",
       "        vertical-align: top;\n",
       "    }\n",
       "\n",
       "    .dataframe thead th {\n",
       "        text-align: right;\n",
       "    }\n",
       "</style>\n",
       "<table border=\"1\" class=\"dataframe\">\n",
       "  <thead>\n",
       "    <tr style=\"text-align: right;\">\n",
       "      <th></th>\n",
       "      <th>Name</th>\n",
       "      <th>Nationality</th>\n",
       "      <th>Sex</th>\n",
       "      <th>Age</th>\n",
       "      <th>Handedness</th>\n",
       "    </tr>\n",
       "  </thead>\n",
       "  <tbody>\n",
       "    <tr>\n",
       "      <th>0</th>\n",
       "      <td>Kathy</td>\n",
       "      <td>USA</td>\n",
       "      <td>Female</td>\n",
       "      <td>23</td>\n",
       "      <td>Right</td>\n",
       "    </tr>\n",
       "    <tr>\n",
       "      <th>1</th>\n",
       "      <td>Linda</td>\n",
       "      <td>USA</td>\n",
       "      <td>Female</td>\n",
       "      <td>18</td>\n",
       "      <td>Right</td>\n",
       "    </tr>\n",
       "    <tr>\n",
       "      <th>2</th>\n",
       "      <td>Peter</td>\n",
       "      <td>USA</td>\n",
       "      <td>Male</td>\n",
       "      <td>19</td>\n",
       "      <td>Right</td>\n",
       "    </tr>\n",
       "    <tr>\n",
       "      <th>3</th>\n",
       "      <td>John</td>\n",
       "      <td>USA</td>\n",
       "      <td>Male</td>\n",
       "      <td>22</td>\n",
       "      <td>Left</td>\n",
       "    </tr>\n",
       "    <tr>\n",
       "      <th>4</th>\n",
       "      <td>Fatima</td>\n",
       "      <td>Bangadesh</td>\n",
       "      <td>Female</td>\n",
       "      <td>31</td>\n",
       "      <td>Left</td>\n",
       "    </tr>\n",
       "    <tr>\n",
       "      <th>5</th>\n",
       "      <td>Kadir</td>\n",
       "      <td>Bangadesh</td>\n",
       "      <td>Male</td>\n",
       "      <td>25</td>\n",
       "      <td>Left</td>\n",
       "    </tr>\n",
       "    <tr>\n",
       "      <th>6</th>\n",
       "      <td>Dhaval</td>\n",
       "      <td>India</td>\n",
       "      <td>Male</td>\n",
       "      <td>35</td>\n",
       "      <td>Left</td>\n",
       "    </tr>\n",
       "    <tr>\n",
       "      <th>7</th>\n",
       "      <td>Sudhir</td>\n",
       "      <td>India</td>\n",
       "      <td>Male</td>\n",
       "      <td>31</td>\n",
       "      <td>Left</td>\n",
       "    </tr>\n",
       "    <tr>\n",
       "      <th>8</th>\n",
       "      <td>Parvir</td>\n",
       "      <td>India</td>\n",
       "      <td>Male</td>\n",
       "      <td>37</td>\n",
       "      <td>Right</td>\n",
       "    </tr>\n",
       "    <tr>\n",
       "      <th>9</th>\n",
       "      <td>Yan</td>\n",
       "      <td>China</td>\n",
       "      <td>Female</td>\n",
       "      <td>52</td>\n",
       "      <td>Right</td>\n",
       "    </tr>\n",
       "    <tr>\n",
       "      <th>10</th>\n",
       "      <td>Juan</td>\n",
       "      <td>China</td>\n",
       "      <td>Female</td>\n",
       "      <td>58</td>\n",
       "      <td>Left</td>\n",
       "    </tr>\n",
       "    <tr>\n",
       "      <th>11</th>\n",
       "      <td>Liang</td>\n",
       "      <td>China</td>\n",
       "      <td>Male</td>\n",
       "      <td>43</td>\n",
       "      <td>Left</td>\n",
       "    </tr>\n",
       "  </tbody>\n",
       "</table>\n",
       "</div>"
      ],
      "text/plain": [
       "      Name Nationality     Sex  Age Handedness\n",
       "0    Kathy         USA  Female   23      Right\n",
       "1    Linda         USA  Female   18      Right\n",
       "2    Peter         USA    Male   19      Right\n",
       "3     John         USA    Male   22       Left\n",
       "4   Fatima   Bangadesh  Female   31       Left\n",
       "5    Kadir   Bangadesh    Male   25       Left\n",
       "6   Dhaval       India    Male   35       Left\n",
       "7   Sudhir       India    Male   31       Left\n",
       "8   Parvir       India    Male   37      Right\n",
       "9      Yan       China  Female   52      Right\n",
       "10    Juan       China  Female   58       Left\n",
       "11   Liang       China    Male   43       Left"
      ]
     },
     "execution_count": 39,
     "metadata": {},
     "output_type": "execute_result"
    }
   ],
   "source": [
    "dt"
   ]
  },
  {
   "cell_type": "markdown",
   "id": "37f85b1c",
   "metadata": {},
   "source": [
    "# problem statement \n",
    "# seperate nationality with handedness"
   ]
  },
  {
   "cell_type": "code",
   "execution_count": 41,
   "id": "272a5763",
   "metadata": {},
   "outputs": [],
   "source": [
    "#by the problem statement \n",
    "#we are having categorical and numerical data (bi variate)\n",
    "#then we can use the barplot, distplot, boxplot to analysis the data\n"
   ]
  },
  {
   "cell_type": "code",
   "execution_count": 50,
   "id": "4b9599be",
   "metadata": {},
   "outputs": [
    {
     "data": {
      "text/html": [
       "<div>\n",
       "<style scoped>\n",
       "    .dataframe tbody tr th:only-of-type {\n",
       "        vertical-align: middle;\n",
       "    }\n",
       "\n",
       "    .dataframe tbody tr th {\n",
       "        vertical-align: top;\n",
       "    }\n",
       "\n",
       "    .dataframe thead th {\n",
       "        text-align: right;\n",
       "    }\n",
       "</style>\n",
       "<table border=\"1\" class=\"dataframe\">\n",
       "  <thead>\n",
       "    <tr style=\"text-align: right;\">\n",
       "      <th></th>\n",
       "      <th>Name</th>\n",
       "      <th>Nationality</th>\n",
       "      <th>Sex</th>\n",
       "      <th>Age</th>\n",
       "      <th>Handedness</th>\n",
       "    </tr>\n",
       "  </thead>\n",
       "  <tbody>\n",
       "    <tr>\n",
       "      <th>0</th>\n",
       "      <td>Kathy</td>\n",
       "      <td>USA</td>\n",
       "      <td>Female</td>\n",
       "      <td>23</td>\n",
       "      <td>Right</td>\n",
       "    </tr>\n",
       "    <tr>\n",
       "      <th>1</th>\n",
       "      <td>Linda</td>\n",
       "      <td>USA</td>\n",
       "      <td>Female</td>\n",
       "      <td>18</td>\n",
       "      <td>Right</td>\n",
       "    </tr>\n",
       "    <tr>\n",
       "      <th>2</th>\n",
       "      <td>Peter</td>\n",
       "      <td>USA</td>\n",
       "      <td>Male</td>\n",
       "      <td>19</td>\n",
       "      <td>Right</td>\n",
       "    </tr>\n",
       "    <tr>\n",
       "      <th>3</th>\n",
       "      <td>John</td>\n",
       "      <td>USA</td>\n",
       "      <td>Male</td>\n",
       "      <td>22</td>\n",
       "      <td>Left</td>\n",
       "    </tr>\n",
       "    <tr>\n",
       "      <th>4</th>\n",
       "      <td>Fatima</td>\n",
       "      <td>Bangadesh</td>\n",
       "      <td>Female</td>\n",
       "      <td>31</td>\n",
       "      <td>Left</td>\n",
       "    </tr>\n",
       "    <tr>\n",
       "      <th>5</th>\n",
       "      <td>Kadir</td>\n",
       "      <td>Bangadesh</td>\n",
       "      <td>Male</td>\n",
       "      <td>25</td>\n",
       "      <td>Left</td>\n",
       "    </tr>\n",
       "    <tr>\n",
       "      <th>6</th>\n",
       "      <td>Dhaval</td>\n",
       "      <td>India</td>\n",
       "      <td>Male</td>\n",
       "      <td>35</td>\n",
       "      <td>Left</td>\n",
       "    </tr>\n",
       "    <tr>\n",
       "      <th>7</th>\n",
       "      <td>Sudhir</td>\n",
       "      <td>India</td>\n",
       "      <td>Male</td>\n",
       "      <td>31</td>\n",
       "      <td>Left</td>\n",
       "    </tr>\n",
       "    <tr>\n",
       "      <th>8</th>\n",
       "      <td>Parvir</td>\n",
       "      <td>India</td>\n",
       "      <td>Male</td>\n",
       "      <td>37</td>\n",
       "      <td>Right</td>\n",
       "    </tr>\n",
       "    <tr>\n",
       "      <th>9</th>\n",
       "      <td>Yan</td>\n",
       "      <td>China</td>\n",
       "      <td>Female</td>\n",
       "      <td>52</td>\n",
       "      <td>Right</td>\n",
       "    </tr>\n",
       "    <tr>\n",
       "      <th>10</th>\n",
       "      <td>Juan</td>\n",
       "      <td>China</td>\n",
       "      <td>Female</td>\n",
       "      <td>58</td>\n",
       "      <td>Left</td>\n",
       "    </tr>\n",
       "    <tr>\n",
       "      <th>11</th>\n",
       "      <td>Liang</td>\n",
       "      <td>China</td>\n",
       "      <td>Male</td>\n",
       "      <td>43</td>\n",
       "      <td>Left</td>\n",
       "    </tr>\n",
       "  </tbody>\n",
       "</table>\n",
       "</div>"
      ],
      "text/plain": [
       "      Name Nationality     Sex  Age Handedness\n",
       "0    Kathy         USA  Female   23      Right\n",
       "1    Linda         USA  Female   18      Right\n",
       "2    Peter         USA    Male   19      Right\n",
       "3     John         USA    Male   22       Left\n",
       "4   Fatima   Bangadesh  Female   31       Left\n",
       "5    Kadir   Bangadesh    Male   25       Left\n",
       "6   Dhaval       India    Male   35       Left\n",
       "7   Sudhir       India    Male   31       Left\n",
       "8   Parvir       India    Male   37      Right\n",
       "9      Yan       China  Female   52      Right\n",
       "10    Juan       China  Female   58       Left\n",
       "11   Liang       China    Male   43       Left"
      ]
     },
     "execution_count": 50,
     "metadata": {},
     "output_type": "execute_result"
    }
   ],
   "source": [
    "dt"
   ]
  },
  {
   "cell_type": "code",
   "execution_count": 56,
   "id": "e4e04067",
   "metadata": {},
   "outputs": [
    {
     "data": {
      "text/html": [
       "<div>\n",
       "<style scoped>\n",
       "    .dataframe tbody tr th:only-of-type {\n",
       "        vertical-align: middle;\n",
       "    }\n",
       "\n",
       "    .dataframe tbody tr th {\n",
       "        vertical-align: top;\n",
       "    }\n",
       "\n",
       "    .dataframe thead th {\n",
       "        text-align: right;\n",
       "    }\n",
       "</style>\n",
       "<table border=\"1\" class=\"dataframe\">\n",
       "  <thead>\n",
       "    <tr style=\"text-align: right;\">\n",
       "      <th>Handedness</th>\n",
       "      <th>Left</th>\n",
       "      <th>Right</th>\n",
       "      <th>All</th>\n",
       "    </tr>\n",
       "    <tr>\n",
       "      <th>Nationality</th>\n",
       "      <th></th>\n",
       "      <th></th>\n",
       "      <th></th>\n",
       "    </tr>\n",
       "  </thead>\n",
       "  <tbody>\n",
       "    <tr>\n",
       "      <th>Bangadesh</th>\n",
       "      <td>2</td>\n",
       "      <td>0</td>\n",
       "      <td>2</td>\n",
       "    </tr>\n",
       "    <tr>\n",
       "      <th>China</th>\n",
       "      <td>2</td>\n",
       "      <td>1</td>\n",
       "      <td>3</td>\n",
       "    </tr>\n",
       "    <tr>\n",
       "      <th>India</th>\n",
       "      <td>2</td>\n",
       "      <td>1</td>\n",
       "      <td>3</td>\n",
       "    </tr>\n",
       "    <tr>\n",
       "      <th>USA</th>\n",
       "      <td>1</td>\n",
       "      <td>3</td>\n",
       "      <td>4</td>\n",
       "    </tr>\n",
       "    <tr>\n",
       "      <th>All</th>\n",
       "      <td>7</td>\n",
       "      <td>5</td>\n",
       "      <td>12</td>\n",
       "    </tr>\n",
       "  </tbody>\n",
       "</table>\n",
       "</div>"
      ],
      "text/plain": [
       "Handedness   Left  Right  All\n",
       "Nationality                  \n",
       "Bangadesh       2      0    2\n",
       "China           2      1    3\n",
       "India           2      1    3\n",
       "USA             1      3    4\n",
       "All             7      5   12"
      ]
     },
     "execution_count": 56,
     "metadata": {},
     "output_type": "execute_result"
    }
   ],
   "source": [
    "pd.crosstab(dt.Nationality,dt.Handedness,margins=True)"
   ]
  },
  {
   "cell_type": "code",
   "execution_count": 57,
   "id": "228e5d29",
   "metadata": {},
   "outputs": [],
   "source": [
    "#as we crosstab the data we can say that they are totally 12 people\n",
    "#in that 12, 7 are left handedness and 5 are right handedness.\n",
    "#they are totally 2 people in bangadesh who are left handedness\n",
    "#they are totally 3 people in china in that 2 are left handedness and 1 is right handedness\n",
    "#they are totally 3 people in india in that 2 are left handedness and 1 is right handedness\n",
    "#they are totally 4 people in USA in that 1 is left handedness and 3 are right handedness\n"
   ]
  },
  {
   "cell_type": "code",
   "execution_count": 70,
   "id": "b8b0c43c",
   "metadata": {},
   "outputs": [
    {
     "name": "stderr",
     "output_type": "stream",
     "text": [
      "C:\\Users\\meghi\\anaconda3\\lib\\site-packages\\seaborn\\_decorators.py:36: FutureWarning: Pass the following variable as a keyword arg: x. From version 0.12, the only valid positional argument will be `data`, and passing other arguments without an explicit keyword will result in an error or misinterpretation.\n",
      "  warnings.warn(\n"
     ]
    },
    {
     "data": {
      "text/plain": [
       "<AxesSubplot:xlabel='Nationality', ylabel='count'>"
      ]
     },
     "execution_count": 70,
     "metadata": {},
     "output_type": "execute_result"
    },
    {
     "data": {
      "image/png": "[encoded data removed]",
      "text/plain": [
       "<Figure size 640x480 with 1 Axes>"
      ]
     },
     "metadata": {},
     "output_type": "display_data"
    }
   ],
   "source": [
    "sns.countplot(dt['Nationality'])"
   ]
  },
  {
   "cell_type": "code",
   "execution_count": null,
   "id": "2e33ec1d",
   "metadata": {},
   "outputs": [],
   "source": [
    "#here by using the countplot we can say the nationality count."
   ]
  },
  {
   "cell_type": "code",
   "execution_count": 89,
   "id": "6c384a7a",
   "metadata": {},
   "outputs": [
    {
     "data": {
      "text/plain": [
       "USA          4\n",
       "India        3\n",
       "China        3\n",
       "Bangadesh    2\n",
       "Name: Nationality, dtype: int64"
      ]
     },
     "execution_count": 89,
     "metadata": {},
     "output_type": "execute_result"
    }
   ],
   "source": [
    "dt[\"Nationality\"].value_counts()"
   ]
  },
  {
   "cell_type": "code",
   "execution_count": 68,
   "id": "917fbe85",
   "metadata": {},
   "outputs": [
    {
     "data": {
      "image/png": "[encoded data removed]",
      "text/plain": [
       "<Figure size 640x480 with 1 Axes>"
      ]
     },
     "metadata": {},
     "output_type": "display_data"
    }
   ],
   "source": [
    "plt.pie([4,3,3,2],labels=[\"USA\",\"India\",\"China\",\"Bangadesh\"],autopct='%0.0f%%')\n",
    "plt.show()"
   ]
  },
  {
   "cell_type": "code",
   "execution_count": null,
   "id": "7f830d5c",
   "metadata": {},
   "outputs": [],
   "source": [
    "#by the pie chart we can say the exact percentage of the nationality"
   ]
  },
  {
   "cell_type": "code",
   "execution_count": 74,
   "id": "e4d7d230",
   "metadata": {},
   "outputs": [
    {
     "data": {
      "text/plain": [
       "<AxesSubplot:xlabel='Handedness', ylabel='Count'>"
      ]
     },
     "execution_count": 74,
     "metadata": {},
     "output_type": "execute_result"
    },
    {
     "data": {
      "image/png": "[encoded data removed]",
      "text/plain": [
       "<Figure size 1500x1000 with 1 Axes>"
      ]
     },
     "metadata": {},
     "output_type": "display_data"
    }
   ],
   "source": [
    "plt.figure(figsize=(15,10))\n",
    "sns.histplot(data=dt,x=\"Handedness\",bins=10,hue=\"Nationality\",color=\"r\")"
   ]
  },
  {
   "cell_type": "code",
   "execution_count": 76,
   "id": "00e92e48",
   "metadata": {},
   "outputs": [
    {
     "data": {
      "text/plain": [
       "<AxesSubplot:>"
      ]
     },
     "execution_count": 76,
     "metadata": {},
     "output_type": "execute_result"
    },
    {
     "data": {
      "image/png": "[encoded data removed]",
      "text/plain": [
       "<Figure size 640x480 with 1 Axes>"
      ]
     },
     "metadata": {},
     "output_type": "display_data"
    }
   ],
   "source": [
    "dt.boxplot()"
   ]
  },
  {
   "cell_type": "code",
   "execution_count": null,
   "id": "e8c0343e",
   "metadata": {},
   "outputs": [],
   "source": [
    "#here in boxplot we can do only numeric values as in our data age is in the form of numeric values"
   ]
  },
  {
   "cell_type": "code",
   "execution_count": 82,
   "id": "9ce80576",
   "metadata": {},
   "outputs": [
    {
     "data": {
      "text/plain": [
       "<seaborn.axisgrid.FacetGrid at 0x27aa7c25fd0>"
      ]
     },
     "execution_count": 82,
     "metadata": {},
     "output_type": "execute_result"
    },
    {
     "data": {
      "image/png": "[encoded data removed]",
      "text/plain": [
       "<Figure size 596.611x500 with 1 Axes>"
      ]
     },
     "metadata": {},
     "output_type": "display_data"
    }
   ],
   "source": [
    "sns.displot(data=dt,x=\"Age\",hue=\"Handedness\",kind=\"kde\")"
   ]
  },
  {
   "cell_type": "code",
   "execution_count": null,
   "id": "7039fb86",
   "metadata": {},
   "outputs": [],
   "source": [
    "#in distplot we need one numeric and one categorical data for that \n",
    "#in here our problem statement will be of age vs handedness\n"
   ]
  },
  {
   "cell_type": "code",
   "execution_count": 84,
   "id": "9e8c29b8",
   "metadata": {},
   "outputs": [
    {
     "name": "stderr",
     "output_type": "stream",
     "text": [
      "C:\\Users\\meghi\\anaconda3\\lib\\site-packages\\seaborn\\_decorators.py:36: FutureWarning: Pass the following variables as keyword args: x, y. From version 0.12, the only valid positional argument will be `data`, and passing other arguments without an explicit keyword will result in an error or misinterpretation.\n",
      "  warnings.warn(\n"
     ]
    },
    {
     "data": {
      "text/plain": [
       "<AxesSubplot:ylabel='Nationality'>"
      ]
     },
     "execution_count": 84,
     "metadata": {},
     "output_type": "execute_result"
    },
    {
     "data": {
      "image/png": "[encoded data removed]",
      "text/plain": [
       "<Figure size 640x480 with 1 Axes>"
      ]
     },
     "metadata": {},
     "output_type": "display_data"
    }
   ],
   "source": [
    "sns.barplot(dt[\"Nationality\"].unique(),dt[\"Nationality\"].value_counts())"
   ]
  },
  {
   "cell_type": "code",
   "execution_count": 85,
   "id": "01f4cd88",
   "metadata": {},
   "outputs": [
    {
     "name": "stderr",
     "output_type": "stream",
     "text": [
      "C:\\Users\\meghi\\anaconda3\\lib\\site-packages\\seaborn\\_decorators.py:36: FutureWarning: Pass the following variables as keyword args: x, y. From version 0.12, the only valid positional argument will be `data`, and passing other arguments without an explicit keyword will result in an error or misinterpretation.\n",
      "  warnings.warn(\n"
     ]
    },
    {
     "data": {
      "text/plain": [
       "<AxesSubplot:ylabel='Handedness'>"
      ]
     },
     "execution_count": 85,
     "metadata": {},
     "output_type": "execute_result"
    },
    {
     "data": {
      "image/png": "[encoded data removed]",
      "text/plain": [
       "<Figure size 640x480 with 1 Axes>"
      ]
     },
     "metadata": {},
     "output_type": "display_data"
    }
   ],
   "source": [
    "sns.barplot(dt[\"Handedness\"].unique(),dt[\"Handedness\"].value_counts())"
   ]
  },
  {
   "cell_type": "code",
   "execution_count": null,
   "id": "48822b7c",
   "metadata": {},
   "outputs": [],
   "source": [
    "#by the bar plot we can say about univariate that means we say about the nationality count and also the handedness count"
   ]
  },
  {
   "cell_type": "code",
   "execution_count": 88,
   "id": "ebab6bdb",
   "metadata": {},
   "outputs": [
    {
     "data": {
      "text/plain": [
       "[<matplotlib.lines.Line2D at 0x27aa78f4130>]"
      ]
     },
     "execution_count": 88,
     "metadata": {},
     "output_type": "execute_result"
    },
    {
     "data": {
      "image/png": "[encoded data removed]",
      "text/plain": [
       "<Figure size 640x480 with 1 Axes>"
      ]
     },
     "metadata": {},
     "output_type": "display_data"
    }
   ],
   "source": [
    "plt.plot(dt[\"Nationality\"],dt[\"Handedness\"])\n"
   ]
  },
  {
   "cell_type": "code",
   "execution_count": 90,
   "id": "59365887",
   "metadata": {},
   "outputs": [],
   "source": [
    "#by this we can say the line plot by using nationality and handedness"
   ]
  },
  {
   "cell_type": "markdown",
   "id": "077f79e3",
   "metadata": {},
   "source": [
    "# conclusion"
   ]
  },
  {
   "cell_type": "markdown",
   "id": "ecb6b095",
   "metadata": {},
   "source": [
    "By the problem statement\n",
    "Which is seperating the nationality and handedness \n",
    "And also we can say the percentages as in which nationality how many people are they in right handedness and left handedness.\n",
    "As our problem statement is of numeric vs categorial\n",
    "We use those plot to describe our analysis.\n",
    "\n"
   ]
  },
  {
   "cell_type": "code",
   "execution_count": null,
   "id": "c0d62f78",
   "metadata": {},
   "outputs": [],
   "source": []
  }
 ],
 "metadata": {
  "kernelspec": {
   "display_name": "Python 3 (ipykernel)",
   "language": "python",
   "name": "python3"
  },
  "language_info": {
   "codemirror_mode": {
    "name": "ipython",
    "version": 3
   },
   "file_extension": ".py",
   "mimetype": "text/x-python",
   "name": "python",
   "nbconvert_exporter": "python",
   "pygments_lexer": "ipython3",
   "version": "3.9.13"
  }
 },
 "nbformat": 4,
 "nbformat_minor": 5
}
